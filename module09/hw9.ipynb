{
 "cells": [
  {
   "cell_type": "markdown",
   "id": "d5aaeba4-e0e1-4d9b-900b-e57f7427a60d",
   "metadata": {},
   "source": [
    "## Homework\n",
    "\n",
    "In this homework, we'll deploy the Straight vs Curly Hair Type model we trained in the \n",
    "[previous homework](../08-deep-learning/homework.md).\n",
    "\n",
    "Download the model from here: \n",
    "\n",
    "https://github.com/alexeygrigorev/large-datasets/releases/download/hairstyle/model_2024_hairstyle.keras"
   ]
  },
  {
   "cell_type": "code",
   "execution_count": 1,
   "id": "6c6ed1a4-8dae-4620-8d8d-2db8d3317f13",
   "metadata": {},
   "outputs": [
    {
     "name": "stderr",
     "output_type": "stream",
     "text": [
      "2024-12-11 15:22:06.414666: E external/local_xla/xla/stream_executor/cuda/cuda_fft.cc:485] Unable to register cuFFT factory: Attempting to register factory for plugin cuFFT when one has already been registered\n",
      "2024-12-11 15:22:06.433041: E external/local_xla/xla/stream_executor/cuda/cuda_dnn.cc:8454] Unable to register cuDNN factory: Attempting to register factory for plugin cuDNN when one has already been registered\n",
      "2024-12-11 15:22:06.438284: E external/local_xla/xla/stream_executor/cuda/cuda_blas.cc:1452] Unable to register cuBLAS factory: Attempting to register factory for plugin cuBLAS when one has already been registered\n",
      "2024-12-11 15:22:06.453307: I tensorflow/core/platform/cpu_feature_guard.cc:210] This TensorFlow binary is optimized to use available CPU instructions in performance-critical operations.\n",
      "To enable the following instructions: AVX2 FMA, in other operations, rebuild TensorFlow with the appropriate compiler flags.\n",
      "2024-12-11 15:22:07.895679: W tensorflow/compiler/tf2tensorrt/utils/py_utils.cc:38] TF-TRT Warning: Could not find TensorRT\n"
     ]
    }
   ],
   "source": [
    "import tensorflow as tf\n",
    "from tensorflow import keras"
   ]
  },
  {
   "cell_type": "markdown",
   "id": "3d9579b7-8088-4700-b14a-bd3924562f50",
   "metadata": {},
   "source": [
    "## Question 1\n",
    "\n",
    "Now convert this model from Keras to TF-Lite format.\n",
    "\n",
    "What's the size of the **converted** model?\n",
    "\n",
    "* 27 Mb\n",
    "* 43 Mb\n",
    "* 77 Mb\n",
    "* 127 Mb"
   ]
  },
  {
   "cell_type": "code",
   "execution_count": 2,
   "id": "0e2a079f-537c-42ac-ac5f-23e1f56feebe",
   "metadata": {},
   "outputs": [
    {
     "name": "stderr",
     "output_type": "stream",
     "text": [
      "WARNING: All log messages before absl::InitializeLog() is called are written to STDERR\n",
      "I0000 00:00:1733905416.630753    3940 cuda_executor.cc:1001] could not open file to read NUMA node: /sys/bus/pci/devices/0000:01:00.0/numa_node\n",
      "Your kernel may have been built without NUMA support.\n",
      "I0000 00:00:1733905416.744642    3940 cuda_executor.cc:1001] could not open file to read NUMA node: /sys/bus/pci/devices/0000:01:00.0/numa_node\n",
      "Your kernel may have been built without NUMA support.\n",
      "I0000 00:00:1733905416.744708    3940 cuda_executor.cc:1001] could not open file to read NUMA node: /sys/bus/pci/devices/0000:01:00.0/numa_node\n",
      "Your kernel may have been built without NUMA support.\n",
      "I0000 00:00:1733905416.748702    3940 cuda_executor.cc:1001] could not open file to read NUMA node: /sys/bus/pci/devices/0000:01:00.0/numa_node\n",
      "Your kernel may have been built without NUMA support.\n",
      "I0000 00:00:1733905416.748770    3940 cuda_executor.cc:1001] could not open file to read NUMA node: /sys/bus/pci/devices/0000:01:00.0/numa_node\n",
      "Your kernel may have been built without NUMA support.\n",
      "I0000 00:00:1733905416.748801    3940 cuda_executor.cc:1001] could not open file to read NUMA node: /sys/bus/pci/devices/0000:01:00.0/numa_node\n",
      "Your kernel may have been built without NUMA support.\n",
      "I0000 00:00:1733905416.937397    3940 cuda_executor.cc:1001] could not open file to read NUMA node: /sys/bus/pci/devices/0000:01:00.0/numa_node\n",
      "Your kernel may have been built without NUMA support.\n",
      "I0000 00:00:1733905416.937472    3940 cuda_executor.cc:1001] could not open file to read NUMA node: /sys/bus/pci/devices/0000:01:00.0/numa_node\n",
      "Your kernel may have been built without NUMA support.\n",
      "2024-12-11 15:23:36.937484: I tensorflow/core/common_runtime/gpu/gpu_device.cc:2112] Could not identify NUMA node of platform GPU id 0, defaulting to 0.  Your kernel may not have been built with NUMA support.\n",
      "I0000 00:00:1733905416.937605    3940 cuda_executor.cc:1001] could not open file to read NUMA node: /sys/bus/pci/devices/0000:01:00.0/numa_node\n",
      "Your kernel may have been built without NUMA support.\n",
      "2024-12-11 15:23:36.937652: I tensorflow/core/common_runtime/gpu/gpu_device.cc:2021] Created device /job:localhost/replica:0/task:0/device:GPU:0 with 3600 MB memory:  -> device: 0, name: NVIDIA GeForce RTX 3060 Laptop GPU, pci bus id: 0000:01:00.0, compute capability: 8.6\n"
     ]
    },
    {
     "name": "stdout",
     "output_type": "stream",
     "text": [
      "INFO:tensorflow:Assets written to: /tmp/tmpjrp05gfa/assets\n"
     ]
    },
    {
     "name": "stderr",
     "output_type": "stream",
     "text": [
      "INFO:tensorflow:Assets written to: /tmp/tmpjrp05gfa/assets\n"
     ]
    },
    {
     "name": "stdout",
     "output_type": "stream",
     "text": [
      "Saved artifact at '/tmp/tmpjrp05gfa'. The following endpoints are available:\n",
      "\n",
      "* Endpoint 'serve'\n",
      "  args_0 (POSITIONAL_ONLY): TensorSpec(shape=(None, 200, 200, 3), dtype=tf.float32, name='input_layer')\n",
      "Output Type:\n",
      "  TensorSpec(shape=(None, 1), dtype=tf.float32, name=None)\n",
      "Captures:\n",
      "  140059527808272: TensorSpec(shape=(), dtype=tf.resource, name=None)\n",
      "  140059527825888: TensorSpec(shape=(), dtype=tf.resource, name=None)\n",
      "  140059524058976: TensorSpec(shape=(), dtype=tf.resource, name=None)\n",
      "  140059524101040: TensorSpec(shape=(), dtype=tf.resource, name=None)\n",
      "  140059524124160: TensorSpec(shape=(), dtype=tf.resource, name=None)\n",
      "  140059524123104: TensorSpec(shape=(), dtype=tf.resource, name=None)\n"
     ]
    },
    {
     "name": "stderr",
     "output_type": "stream",
     "text": [
      "WARNING: All log messages before absl::InitializeLog() is called are written to STDERR\n",
      "W0000 00:00:1733905424.284576    3940 tf_tfl_flatbuffer_helpers.cc:392] Ignored output_format.\n",
      "W0000 00:00:1733905424.285381    3940 tf_tfl_flatbuffer_helpers.cc:395] Ignored drop_control_dependency.\n",
      "2024-12-11 15:23:44.289166: I tensorflow/cc/saved_model/reader.cc:83] Reading SavedModel from: /tmp/tmpjrp05gfa\n",
      "2024-12-11 15:23:44.289746: I tensorflow/cc/saved_model/reader.cc:52] Reading meta graph with tags { serve }\n",
      "2024-12-11 15:23:44.289758: I tensorflow/cc/saved_model/reader.cc:147] Reading SavedModel debug info (if present) from: /tmp/tmpjrp05gfa\n",
      "2024-12-11 15:23:44.296603: I tensorflow/compiler/mlir/mlir_graph_optimization_pass.cc:388] MLIR V1 optimization pass is not enabled\n",
      "2024-12-11 15:23:44.297704: I tensorflow/cc/saved_model/loader.cc:236] Restoring SavedModel bundle.\n",
      "2024-12-11 15:23:44.428810: I tensorflow/cc/saved_model/loader.cc:220] Running initialization op on SavedModel bundle at path: /tmp/tmpjrp05gfa\n",
      "2024-12-11 15:23:44.435785: I tensorflow/cc/saved_model/loader.cc:462] SavedModel load for tags { serve }; Status: success: OK. Took 146632 microseconds.\n",
      "2024-12-11 15:23:44.504051: I tensorflow/compiler/mlir/tensorflow/utils/dump_mlir_util.cc:268] disabling MLIR crash reproducer, set env var `MLIR_CRASH_REPRODUCER_DIRECTORY` to enable.\n"
     ]
    }
   ],
   "source": [
    "model = keras.models.load_model('./model_2024_hairstyle.keras')\n",
    "converter = tf.lite.TFLiteConverter.from_keras_model(model)\n",
    "tflite_model = converter.convert()\n",
    "with open('hair-model.tflite', 'wb') as f_out:\n",
    "    f_out.write(tflite_model)"
   ]
  },
  {
   "cell_type": "code",
   "execution_count": 4,
   "id": "1821c66e-2500-4971-a4d4-1869475e368b",
   "metadata": {},
   "outputs": [
    {
     "name": "stdout",
     "output_type": "stream",
     "text": [
      "77M ./hair-model.tflite\n"
     ]
    }
   ],
   "source": [
    "!ls -lh ./hair-model.tflite | awk '{print $5,$9}'"
   ]
  },
  {
   "cell_type": "markdown",
   "id": "6a18c1c6-e10d-4b45-9960-7612fc1f25dd",
   "metadata": {},
   "source": [
    "## Question 2\n",
    "\n",
    "To be able to use this model, we need to know the index of the input and \n",
    "the index of the output. \n",
    "\n",
    "What's the output index for this model?\n",
    "\n",
    "* 3\n",
    "* 7\n",
    "* 13\n",
    "* 24"
   ]
  },
  {
   "cell_type": "code",
   "execution_count": 5,
   "id": "b523bee9-f184-4df1-bda9-26d1424162a1",
   "metadata": {},
   "outputs": [
    {
     "name": "stdout",
     "output_type": "stream",
     "text": [
      "Input index: 0\n",
      "Output index: 13\n"
     ]
    },
    {
     "name": "stderr",
     "output_type": "stream",
     "text": [
      "INFO: Created TensorFlow Lite XNNPACK delegate for CPU.\n"
     ]
    }
   ],
   "source": [
    "interpreter = tf.lite.Interpreter(model_path=\"hair-model.tflite\")\n",
    "interpreter.allocate_tensors()\n",
    "input_details = interpreter.get_input_details()\n",
    "output_details = interpreter.get_output_details()\n",
    "\n",
    "input_index = input_details[0]['index']\n",
    "output_index = output_details[0]['index']\n",
    "\n",
    "print(\"Input index:\", input_index)\n",
    "print(\"Output index:\", output_index)\n"
   ]
  },
  {
   "cell_type": "markdown",
   "id": "b5fbb3d9-9c77-4a70-a2d7-f43518c3e3bc",
   "metadata": {},
   "source": [
    "## Preparing the image\n",
    "\n",
    "You'll need some code for downloading and resizing images. You can use \n",
    "this code:\n",
    "\n",
    "```python\n",
    "from io import BytesIO\n",
    "from urllib import request\n",
    "\n",
    "from PIL import Image\n",
    "\n",
    "def download_image(url):\n",
    "    with request.urlopen(url) as resp:\n",
    "        buffer = resp.read()\n",
    "    stream = BytesIO(buffer)\n",
    "    img = Image.open(stream)\n",
    "    return img\n",
    "\n",
    "\n",
    "def prepare_image(img, target_size):\n",
    "    if img.mode != 'RGB':\n",
    "        img = img.convert('RGB')\n",
    "    img = img.resize(target_size, Image.NEAREST)\n",
    "    return img\n",
    "```\n",
    "\n",
    "For that, you'll need to have `pillow` installed:\n",
    "\n",
    "```bash\n",
    "pip install pillow\n",
    "```\n",
    "\n",
    "Let's download and resize this image: \n",
    "\n",
    "https://habrastorage.org/webt/yf/_d/ok/yf_dokzqy3vcritme8ggnzqlvwa.jpeg\n",
    "\n",
    "Based on the previous homework, what should be the target size for the image?"
   ]
  },
  {
   "cell_type": "code",
   "execution_count": 6,
   "id": "f568523e-1a0c-495a-a4a0-678917462612",
   "metadata": {},
   "outputs": [],
   "source": [
    "from io import BytesIO\n",
    "from urllib import request\n",
    "from PIL import Image"
   ]
  },
  {
   "cell_type": "code",
   "execution_count": 7,
   "id": "95d1ad6b-0144-49b9-82ca-e1984675ff97",
   "metadata": {},
   "outputs": [],
   "source": [
    "def download_image(url):\n",
    "    with request.urlopen(url) as resp:\n",
    "        buffer = resp.read()\n",
    "    stream = BytesIO(buffer)\n",
    "    img = Image.open(stream)\n",
    "    return img\n",
    "\n",
    "\n",
    "def prepare_image(img, target_size):\n",
    "    if img.mode != 'RGB':\n",
    "        img = img.convert('RGB')\n",
    "    img = img.resize(target_size, Image.NEAREST)\n",
    "    return img"
   ]
  },
  {
   "cell_type": "code",
   "execution_count": 8,
   "id": "4dcd163b-77f8-4de5-a6d5-c174a9f0aac7",
   "metadata": {},
   "outputs": [],
   "source": [
    "img = download_image('https://habrastorage.org/webt/yf/_d/ok/yf_dokzqy3vcritme8ggnzqlvwa.jpeg')"
   ]
  },
  {
   "cell_type": "code",
   "execution_count": 10,
   "id": "cc19c30f-59a0-4ef9-97dd-e3cc33d44f4f",
   "metadata": {},
   "outputs": [],
   "source": [
    "prep_img = prepare_image(img, (200,200))"
   ]
  },
  {
   "cell_type": "markdown",
   "id": "d4f496d1-3e9a-49f3-ac11-d14601b68ac2",
   "metadata": {},
   "source": [
    "## Question 3\n",
    "\n",
    "Now we need to turn the image into numpy array and pre-process it. \n",
    "\n",
    "> Tip: Check the previous homework. What was the pre-processing \n",
    "> we did there?\n",
    "\n",
    "After the pre-processing, what's the value in the first pixel, the R channel?\n",
    "\n",
    "* 0.24\n",
    "* 0.44\n",
    "* 0.64\n",
    "* 0.84"
   ]
  },
  {
   "cell_type": "code",
   "execution_count": 16,
   "id": "268788f6-5993-4443-82a5-944d149494c5",
   "metadata": {},
   "outputs": [],
   "source": [
    "import numpy as np\n",
    "\n",
    "def rescale_img(img):\n",
    "    img_arr = np.array(img)\n",
    "    return img_arr / 255.0\n",
    "    "
   ]
  },
  {
   "cell_type": "code",
   "execution_count": 18,
   "id": "54935bf0-4a7e-497d-80e8-cbfdd8617d46",
   "metadata": {},
   "outputs": [],
   "source": [
    "rescaled_img_arr = rescale_img(prep_img)"
   ]
  },
  {
   "cell_type": "code",
   "execution_count": 19,
   "id": "2618868d-2d6e-4770-aa83-27183afc2fca",
   "metadata": {},
   "outputs": [
    {
     "data": {
      "text/plain": [
       "0.23921568627450981"
      ]
     },
     "execution_count": 19,
     "metadata": {},
     "output_type": "execute_result"
    }
   ],
   "source": [
    "rescaled_img_arr[0, 0, 0]"
   ]
  },
  {
   "cell_type": "markdown",
   "id": "c41a5637-f8ea-4ed9-9923-80ec141b604c",
   "metadata": {},
   "source": [
    "## Question 4\n",
    "\n",
    "Now let's apply this model to this image. What's the output of the model?\n",
    "\n",
    "* 0.293\n",
    "* 0.493\n",
    "* 0.693\n",
    "* 0.893"
   ]
  },
  {
   "cell_type": "code",
   "execution_count": 29,
   "id": "b0a8ccb0-8aa2-4060-9b7a-3b4a71363e7b",
   "metadata": {},
   "outputs": [],
   "source": [
    "X = np.expand_dims(rescaled_img_arr, axis=0).astype('float32')\n",
    "interpreter.set_tensor(input_index, X)\n",
    "interpreter.invoke()\n",
    "preds = interpreter.get_tensor(output_index)"
   ]
  },
  {
   "cell_type": "code",
   "execution_count": 34,
   "id": "0bb1613a-769c-4dc2-b64e-566b180fe79a",
   "metadata": {},
   "outputs": [
    {
     "data": {
      "text/plain": [
       "array([[0.8934675]], dtype=float32)"
      ]
     },
     "execution_count": 34,
     "metadata": {},
     "output_type": "execute_result"
    }
   ],
   "source": [
    "preds"
   ]
  },
  {
   "cell_type": "code",
   "execution_count": 32,
   "id": "65ca9dd5-e2f9-477f-a456-fe23d872ee7b",
   "metadata": {},
   "outputs": [
    {
     "data": {
      "text/plain": [
       "[0.8934674859046936]"
      ]
     },
     "execution_count": 32,
     "metadata": {},
     "output_type": "execute_result"
    }
   ],
   "source": [
    "preds[0].tolist()"
   ]
  },
  {
   "cell_type": "markdown",
   "id": "a938b7bc-f263-4282-86f2-6154a0302b08",
   "metadata": {},
   "source": [
    "## Docker \n",
    "\n",
    "For the next two questions, we'll use a Docker image that we already \n",
    "prepared. This is the Dockerfile that we used for creating the image:\n",
    "\n",
    "```docker\n",
    "FROM public.ecr.aws/lambda/python:3.10\n",
    "\n",
    "COPY model_2024_hairstyle_v2.tflite .\n",
    "\n",
    "RUN pip install numpy==1.23.1\n",
    "```\n",
    "\n",
    "Note that it uses Python 3.10. The latest models of TF Lite\n",
    "do not support Python 3.12 yet, so we need to use 3.10. Also,\n",
    "for this part, we will use TensorFlow 2.14.0. We have tested\n",
    "it, and the models created with 2.17 could be served with 2.14.0.\n",
    "\n",
    "For that image, we also needed to use an older version of numpy\n",
    "(1.23.1)\n",
    "\n",
    "The docker image is published to [`agrigorev/model-2024-hairstyle:v3`](https://hub.docker.com/r/agrigorev/model-2024-hairstyle/tags).\n",
    "\n",
    "A few notes:\n",
    "\n",
    "* The image already contains a model and it's not the same model\n",
    "  as the one we used for questions 1-4.\n",
    "* The wheel for this combination that you'll need to use in your Docker image is https://github.com/alexeygrigorev/tflite-aws-lambda/raw/main/tflite/tflite_runtime-2.14.0-cp310-cp310-linux_x86_64.whl\n"
   ]
  },
  {
   "cell_type": "markdown",
   "id": "e3028806-ffa9-484d-acc1-db8b5a2f4933",
   "metadata": {},
   "source": [
    "## Question 5\n",
    "\n",
    "Download the base image `agrigorev/model-2024-hairstyle:v3`. You can do it with [`docker pull`](https://docs.docker.com/engine/reference/commandline/pull/).\n",
    "\n",
    "So what's the size of this base image?\n",
    "\n",
    "* 182 Mb\n",
    "* 382 Mb\n",
    "* 582 Mb\n",
    "* 782 Mb\n",
    "\n",
    "You can get this information when running `docker images` - it'll be in the \"SIZE\" column.\n"
   ]
  },
  {
   "cell_type": "code",
   "execution_count": 33,
   "id": "6764a062-d7d0-40ac-b4ee-4dab9fb627cb",
   "metadata": {},
   "outputs": [
    {
     "name": "stdout",
     "output_type": "stream",
     "text": [
      "agrigorev/model-2024-hairstyle   v3        607850a2138e   8 days ago     782MB\n"
     ]
    }
   ],
   "source": [
    "!docker images | grep hairstyle"
   ]
  },
  {
   "cell_type": "markdown",
   "id": "d8b2c6e5-8550-4c60-8d6f-192b62ed5899",
   "metadata": {},
   "source": [
    "## Question 6\n",
    "\n",
    "Now let's extend this docker image, install all the required libraries\n",
    "and add the code for lambda.\n",
    "\n",
    "You don't need to include the model in the image. It's already included. \n",
    "The name of the file with the model is `model_2024_hairstyle_v2.tflite` and it's \n",
    "in the current workdir in the image (see the Dockerfile above for the \n",
    "reference). \n",
    "The provided model requires the same preprocessing for images regarding target size and rescaling the value range than used in homework 8.\n",
    "\n",
    "Now run the container locally.\n",
    "\n",
    "Score this image: https://habrastorage.org/webt/yf/_d/ok/yf_dokzqy3vcritme8ggnzqlvwa.jpeg\n",
    "\n",
    "What's the output from the model?\n",
    "\n",
    "* 0.229\n",
    "* 0.429\n",
    "* 0.629\n",
    "* 0.829\n"
   ]
  },
  {
   "cell_type": "code",
   "execution_count": 35,
   "id": "b6da376b-913e-4367-9dbc-b64ead2df396",
   "metadata": {},
   "outputs": [
    {
     "name": "stdout",
     "output_type": "stream",
     "text": [
      "[0.42985352873802185]"
     ]
    }
   ],
   "source": [
    "!curl http://localhost:8080/2015-03-31/functions/function/invocations -d '{\"url\": \"https://habrastorage.org/webt/yf/_d/ok/yf_dokzqy3vcritme8ggnzqlvwa.jpeg\"}'"
   ]
  },
  {
   "cell_type": "markdown",
   "id": "e2428559-f534-4e32-a4ac-37c8b31372cc",
   "metadata": {},
   "source": [
    "## Publishing it to AWS\n",
    "\n",
    "Now you can deploy your model to AWS!\n",
    "\n",
    "* Publish your image to ECR\n",
    "* Create a lambda function in AWS, use the ECR image\n",
    "* Give it more RAM and increase the timeout \n",
    "* Test it\n",
    "* Expose the lambda function using API Gateway\n",
    "\n",
    "This is optional and not graded.\n",
    "\n",
    "\n",
    "## Publishing to Docker hub\n",
    "\n",
    "Just for the reference, this is how we published our image to Docker hub:\n",
    "\n",
    "```bash\n",
    "docker build -t model-2024-hairstyle -f homework.dockerfile .\n",
    "docker tag model-2024-hairstyle:latest agrigorev/model-2024-hairstyle:v3\n",
    "docker push agrigorev/model-2024-hairstyle:v3\n",
    "```\n"
   ]
  },
  {
   "cell_type": "code",
   "execution_count": null,
   "id": "35cde752-bb41-40d1-a4e9-1674e1d80426",
   "metadata": {},
   "outputs": [],
   "source": []
  }
 ],
 "metadata": {
  "kernelspec": {
   "display_name": "Python 3 (ipykernel)",
   "language": "python",
   "name": "python3"
  },
  "language_info": {
   "codemirror_mode": {
    "name": "ipython",
    "version": 3
   },
   "file_extension": ".py",
   "mimetype": "text/x-python",
   "name": "python",
   "nbconvert_exporter": "python",
   "pygments_lexer": "ipython3",
   "version": "3.9.20"
  }
 },
 "nbformat": 4,
 "nbformat_minor": 5
}
